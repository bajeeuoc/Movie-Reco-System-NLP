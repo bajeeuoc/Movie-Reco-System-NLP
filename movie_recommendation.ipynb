{
 "cells": [
  {
   "cell_type": "code",
   "execution_count": 1,
   "id": "9405629e",
   "metadata": {},
   "outputs": [],
   "source": [
    "import pandas as pd\n",
    "import numpy as np\n",
    "from sklearn.feature_extraction.text import TfidfVectorizer\n",
    "from sklearn.metrics.pairwise import cosine_similarity, euclidean_distances\n",
    "\n",
    "# Step 1: Load the dataset\n",
    "df = pd.read_csv(\"tmdb_5000_movies.csv\")\n",
    "df = df[[\"title\", \"overview\"]].dropna()\n"
   ]
  },
  {
   "cell_type": "code",
   "execution_count": 2,
   "id": "8a5ac34d",
   "metadata": {},
   "outputs": [],
   "source": [
    "# Step 2: Preprocess and vectorize text using TF-IDF\n",
    "tfidf = TfidfVectorizer(stop_words=\"english\")\n",
    "tfidf_matrix = tfidf.fit_transform(df[\"overview\"])"
   ]
  },
  {
   "cell_type": "code",
   "execution_count": 3,
   "id": "389ba937",
   "metadata": {},
   "outputs": [],
   "source": [
    "# Step 3: Define different similarity methods\n",
    "def calculate_similarity(method=\"cosine\", matrix=tfidf_matrix):\n",
    "    if method == \"cosine\":\n",
    "        return cosine_similarity(matrix, matrix)\n",
    "    elif method == \"euclidean\":\n",
    "        return -euclidean_distances(matrix, matrix)  # Negative for compatibility (higher = more similar)\n",
    "    elif method == \"jaccard\":\n",
    "        # Convert sparse matrix to binary for Jaccard Similarity\n",
    "        bin_matrix = (matrix > 0).astype(int)\n",
    "        intersection = np.dot(bin_matrix, bin_matrix.T)\n",
    "        row_sums = bin_matrix.sum(axis=1)\n",
    "        union = row_sums + row_sums.T - intersection\n",
    "        return intersection / union  # Jaccard Similarity\n",
    "    else:\n",
    "        raise ValueError(f\"Unknown method: {method}\")\n",
    "\n",
    "# Default: Cosine Similarity\n",
    "similarity_method = \"cosine\"\n",
    "similarity_matrix = calculate_similarity(method=similarity_method)"
   ]
  },
  {
   "cell_type": "code",
   "execution_count": 4,
   "id": "45147032",
   "metadata": {},
   "outputs": [],
   "source": [
    "# Step 4: Define a function to recommend movies\n",
    "def recommend_movies(title, similarity_matrix=similarity_matrix, df=df, top_n=5):\n",
    "    if title not in df['title'].values:\n",
    "        return f\"Movie '{title}' not found in the dataset.\"\n",
    "    \n",
    "    idx = df[df['title'] == title].index[0]\n",
    "    sim_scores = list(enumerate(similarity_matrix[idx]))\n",
    "    \n",
    "    # Sort movies by similarity score (descending)\n",
    "    sim_scores = sorted(sim_scores, key=lambda x: x[1], reverse=True)\n",
    "    \n",
    "    # Get indices of the top_n most similar movies (excluding itself)\n",
    "    sim_indices = [i[0] for i in sim_scores[1:top_n + 1]]\n",
    "    return df['title'].iloc[sim_indices]"
   ]
  },
  {
   "cell_type": "code",
   "execution_count": 6,
   "id": "18384446",
   "metadata": {},
   "outputs": [],
   "source": [
    "# Step 5: Define a function to display recommendations\n",
    "def display_movies(input_movie, similarity_methods=[\"cosine\", \"euclidean\", \"jaccard\"]):\n",
    "    for method in similarity_methods:\n",
    "        print(f\"\\nUsing {method} similarity:\")\n",
    "        similarity_matrix = calculate_similarity(method=method)\n",
    "        recommended_movies = recommend_movies(input_movie, similarity_matrix=similarity_matrix)\n",
    "        if isinstance(recommended_movies, str):  # Handle movie not found\n",
    "            print(recommended_movies)\n",
    "        else:\n",
    "            print(recommended_movies.tolist())"
   ]
  },
  {
   "cell_type": "code",
   "execution_count": 8,
   "id": "c9a71d08",
   "metadata": {},
   "outputs": [
    {
     "name": "stdout",
     "output_type": "stream",
     "text": [
      "\n",
      "Using cosine similarity:\n",
      "['Apollo 18', 'The American', 'The Matrix', 'The Inhabited Island', 'Tears of the Sun']\n",
      "\n",
      "Using euclidean similarity:\n",
      "['The Helix... Loaded', 'Apollo 18', 'The American', 'The Matrix', 'The Inhabited Island']\n",
      "\n",
      "Using jaccard similarity:\n",
      "[]\n"
     ]
    }
   ],
   "source": [
    "display_movies(\"Avatar\")"
   ]
  },
  {
   "cell_type": "code",
   "execution_count": 9,
   "id": "e326982c",
   "metadata": {},
   "outputs": [
    {
     "name": "stdout",
     "output_type": "stream",
     "text": [
      "\n",
      "Using cosine similarity:\n",
      "['Friday the 13th Part VI: Jason Lives', 'The Ultimate Gift', 'Big Fat Liar', 'Friday the 13th Part VIII: Jason Takes Manhattan', 'Jason Goes to Hell: The Final Friday']\n",
      "\n",
      "Using euclidean similarity:\n",
      "['The Helix... Loaded', 'Friday the 13th Part VI: Jason Lives', 'The Ultimate Gift', 'Big Fat Liar', 'Friday the 13th Part VIII: Jason Takes Manhattan']\n",
      "\n",
      "Using jaccard similarity:\n",
      "[]\n"
     ]
    }
   ],
   "source": [
    "display_movies(\"Star Wars\")"
   ]
  }
 ],
 "metadata": {
  "kernelspec": {
   "display_name": "Python 3 (ipykernel)",
   "language": "python",
   "name": "python3"
  },
  "language_info": {
   "codemirror_mode": {
    "name": "ipython",
    "version": 3
   },
   "file_extension": ".py",
   "mimetype": "text/x-python",
   "name": "python",
   "nbconvert_exporter": "python",
   "pygments_lexer": "ipython3",
   "version": "3.10.9"
  }
 },
 "nbformat": 4,
 "nbformat_minor": 5
}
